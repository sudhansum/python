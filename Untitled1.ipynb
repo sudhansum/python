{
 "cells": [
  {
   "cell_type": "code",
   "execution_count": 1,
   "id": "da276df9",
   "metadata": {},
   "outputs": [
    {
     "name": "stdout",
     "output_type": "stream",
     "text": [
      "this is addition\n",
      "this is substraction\n"
     ]
    }
   ],
   "source": [
    "def add():\n",
    "    print('this is addition')\n",
    "    \n",
    "def sub():\n",
    "    print('this is substraction')\n",
    "    \n",
    "    \n",
    "add()\n",
    "sub()"
   ]
  },
  {
   "cell_type": "code",
   "execution_count": 3,
   "id": "3462f34d",
   "metadata": {},
   "outputs": [
    {
     "name": "stdout",
     "output_type": "stream",
     "text": [
      "this is addition\n",
      "from fun1\n",
      "fun 2\n"
     ]
    }
   ],
   "source": [
    "def fun1():\n",
    "    add()\n",
    "    print('from fun1')\n",
    "    \n",
    "def fun2():\n",
    "    print('fun 2')\n",
    "    \n",
    "    \n",
    "def main():\n",
    "    fun1()\n",
    "    fun2()\n",
    "    \n",
    "    \n",
    "main()"
   ]
  },
  {
   "cell_type": "code",
   "execution_count": null,
   "id": "1ba13a9f",
   "metadata": {},
   "outputs": [],
   "source": []
  },
  {
   "cell_type": "code",
   "execution_count": null,
   "id": "49638799",
   "metadata": {},
   "outputs": [],
   "source": []
  }
 ],
 "metadata": {
  "kernelspec": {
   "display_name": "Python 3 (ipykernel)",
   "language": "python",
   "name": "python3"
  },
  "language_info": {
   "codemirror_mode": {
    "name": "ipython",
    "version": 3
   },
   "file_extension": ".py",
   "mimetype": "text/x-python",
   "name": "python",
   "nbconvert_exporter": "python",
   "pygments_lexer": "ipython3",
   "version": "3.10.3"
  }
 },
 "nbformat": 4,
 "nbformat_minor": 5
}
